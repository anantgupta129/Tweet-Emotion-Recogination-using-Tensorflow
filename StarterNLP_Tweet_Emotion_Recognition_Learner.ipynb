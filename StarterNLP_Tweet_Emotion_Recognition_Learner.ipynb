{
  "nbformat": 4,
  "nbformat_minor": 0,
  "metadata": {
    "accelerator": "GPU",
    "colab": {
      "name": "Copy of Tweet Emotion Recognition - Learner.ipynb",
      "provenance": [],
      "collapsed_sections": []
    },
    "kernelspec": {
      "display_name": "Python 3",
      "language": "python",
      "name": "python3"
    },
    "language_info": {
      "codemirror_mode": {
        "name": "ipython",
        "version": 3
      },
      "file_extension": ".py",
      "mimetype": "text/x-python",
      "name": "python",
      "nbconvert_exporter": "python",
      "pygments_lexer": "ipython3",
      "version": "3.8.3"
    }
  },
  "cells": [
    {
      "cell_type": "markdown",
      "metadata": {
        "id": "sp7D0ktn5eiG"
      },
      "source": [
        "# Tweet Emotion Recognition: Natural Language Processing with TensorFlow\n"
      ]
    },
    {
      "cell_type": "markdown",
      "metadata": {
        "id": "cprXxkrMxIgT"
      },
      "source": [
        "## 1: Setup and Imports\n"
      ]
    },
    {
      "cell_type": "code",
      "metadata": {
        "id": "yKFjWz6e5eiH",
        "outputId": "899b1e41-d820-43fb-a11e-5f35ecba0161",
        "colab": {
          "base_uri": "https://localhost:8080/"
        }
      },
      "source": [
        "%matplotlib inline\n",
        "\n",
        "import tensorflow as tf\n",
        "import numpy as np\n",
        "import matplotlib.pyplot as plt\n",
        "\n",
        "def show_history(h):\n",
        "    epochs_trained = len(h.history['loss'])\n",
        "    plt.figure(figsize=(16, 6))\n",
        "\n",
        "    plt.subplot(1, 2, 1)\n",
        "    plt.plot(range(0, epochs_trained), h.history.get('accuracy'), label='Training')\n",
        "    plt.plot(range(0, epochs_trained), h.history.get('val_accuracy'), label='Validation')\n",
        "    plt.ylim([0., 1.])\n",
        "    plt.xlabel('Epochs')\n",
        "    plt.ylabel('Accuracy')\n",
        "    plt.legend()\n",
        "\n",
        "    plt.subplot(1, 2, 2)\n",
        "    plt.plot(range(0, epochs_trained), h.history.get('loss'), label='Training')\n",
        "    plt.plot(range(0, epochs_trained), h.history.get('val_loss'), label='Validation')\n",
        "    plt.xlabel('Epochs')\n",
        "    plt.ylabel('Loss')\n",
        "    plt.legend()\n",
        "    plt.show()\n",
        "\n",
        "    \n",
        "def show_confusion_matrix(y_true, y_pred, classes):\n",
        "    from sklearn.metrics import confusion_matrix\n",
        "    \n",
        "    cm = confusion_matrix(y_true, y_pred, normalize='true')\n",
        "\n",
        "    plt.figure(figsize=(8, 8))\n",
        "    sp = plt.subplot(1, 1, 1)\n",
        "    ctx = sp.matshow(cm)\n",
        "    plt.xticks(list(range(0, len(classes))), labels=classes)\n",
        "    plt.yticks(list(range(0, len(classes))), labels=classes)\n",
        "    plt.colorbar(ctx)\n",
        "    plt.show()\n",
        "\n",
        "    \n",
        "print('Using TensorFlow version', tf.__version__)"
      ],
      "execution_count": 7,
      "outputs": [
        {
          "output_type": "stream",
          "text": [
            "Using TensorFlow version 2.3.0\n"
          ],
          "name": "stdout"
        }
      ]
    },
    {
      "cell_type": "markdown",
      "metadata": {
        "id": "7JsBpezExIga"
      },
      "source": [
        "## 3: Importing Data\n",
        "\n",
        "1. Importing the Tweet Emotion dataset\n",
        "2. Creating train, validation and test sets\n",
        "3. Extracting tweets and labels from the examples"
      ]
    },
    {
      "cell_type": "code",
      "metadata": {
        "id": "0YHOvjAu5eiL",
        "outputId": "2a267d57-b307-40dc-b718-02a336dbfdf5",
        "colab": {
          "base_uri": "https://localhost:8080/"
        }
      },
      "source": [
        "!pip install nlp\n",
        "import nlp\n",
        "dataset = nlp.load_dataset('emotion')"
      ],
      "execution_count": 8,
      "outputs": [
        {
          "output_type": "stream",
          "text": [
            "Requirement already satisfied: nlp in /usr/local/lib/python3.6/dist-packages (0.4.0)\n",
            "Requirement already satisfied: pyarrow>=0.16.0 in /usr/local/lib/python3.6/dist-packages (from nlp) (2.0.0)\n",
            "Requirement already satisfied: requests>=2.19.0 in /usr/local/lib/python3.6/dist-packages (from nlp) (2.23.0)\n",
            "Requirement already satisfied: xxhash in /usr/local/lib/python3.6/dist-packages (from nlp) (2.0.0)\n",
            "Requirement already satisfied: numpy in /usr/local/lib/python3.6/dist-packages (from nlp) (1.18.5)\n",
            "Requirement already satisfied: tqdm>=4.27 in /usr/local/lib/python3.6/dist-packages (from nlp) (4.41.1)\n",
            "Requirement already satisfied: filelock in /usr/local/lib/python3.6/dist-packages (from nlp) (3.0.12)\n",
            "Requirement already satisfied: dill in /usr/local/lib/python3.6/dist-packages (from nlp) (0.3.2)\n",
            "Requirement already satisfied: dataclasses; python_version < \"3.7\" in /usr/local/lib/python3.6/dist-packages (from nlp) (0.7)\n",
            "Requirement already satisfied: pandas in /usr/local/lib/python3.6/dist-packages (from nlp) (1.1.3)\n",
            "Requirement already satisfied: chardet<4,>=3.0.2 in /usr/local/lib/python3.6/dist-packages (from requests>=2.19.0->nlp) (3.0.4)\n",
            "Requirement already satisfied: urllib3!=1.25.0,!=1.25.1,<1.26,>=1.21.1 in /usr/local/lib/python3.6/dist-packages (from requests>=2.19.0->nlp) (1.24.3)\n",
            "Requirement already satisfied: certifi>=2017.4.17 in /usr/local/lib/python3.6/dist-packages (from requests>=2.19.0->nlp) (2020.6.20)\n",
            "Requirement already satisfied: idna<3,>=2.5 in /usr/local/lib/python3.6/dist-packages (from requests>=2.19.0->nlp) (2.10)\n",
            "Requirement already satisfied: pytz>=2017.2 in /usr/local/lib/python3.6/dist-packages (from pandas->nlp) (2018.9)\n",
            "Requirement already satisfied: python-dateutil>=2.7.3 in /usr/local/lib/python3.6/dist-packages (from pandas->nlp) (2.8.1)\n",
            "Requirement already satisfied: six>=1.5 in /usr/local/lib/python3.6/dist-packages (from python-dateutil>=2.7.3->pandas->nlp) (1.15.0)\n"
          ],
          "name": "stdout"
        },
        {
          "output_type": "stream",
          "text": [
            "Using custom data configuration default\n"
          ],
          "name": "stderr"
        }
      ]
    },
    {
      "cell_type": "code",
      "metadata": {
        "id": "2s0h541FxIgc",
        "outputId": "8858ab84-0102-4757-c5ed-89a884fd7f7c",
        "colab": {
          "base_uri": "https://localhost:8080/"
        }
      },
      "source": [
        "dataset"
      ],
      "execution_count": 9,
      "outputs": [
        {
          "output_type": "execute_result",
          "data": {
            "text/plain": [
              "{'test': Dataset(features: {'text': Value(dtype='string', id=None), 'label': Value(dtype='string', id=None)}, num_rows: 2000),\n",
              " 'train': Dataset(features: {'text': Value(dtype='string', id=None), 'label': Value(dtype='string', id=None)}, num_rows: 16000),\n",
              " 'validation': Dataset(features: {'text': Value(dtype='string', id=None), 'label': Value(dtype='string', id=None)}, num_rows: 2000)}"
            ]
          },
          "metadata": {
            "tags": []
          },
          "execution_count": 9
        }
      ]
    },
    {
      "cell_type": "code",
      "metadata": {
        "id": "z7eCnxU25eiN"
      },
      "source": [
        "train = dataset['train']\n",
        "val = dataset['validation']\n",
        "test = dataset['test']"
      ],
      "execution_count": 10,
      "outputs": []
    },
    {
      "cell_type": "code",
      "metadata": {
        "id": "oDYXMfZy5eiP"
      },
      "source": [
        "def get_tweet(data):\n",
        "  tweets = [x['text'] for x in data]\n",
        "  labels = [x['label'] for x in data]\n",
        "  return tweets, labels"
      ],
      "execution_count": 11,
      "outputs": []
    },
    {
      "cell_type": "code",
      "metadata": {
        "id": "jeq3-vSB5eiR"
      },
      "source": [
        "tweets_train, labels_train = get_tweet(train)"
      ],
      "execution_count": 12,
      "outputs": []
    },
    {
      "cell_type": "code",
      "metadata": {
        "id": "bHD3Tk0J5eiU",
        "outputId": "bd07d344-e695-40a5-c2aa-2bb8ae97b467",
        "colab": {
          "base_uri": "https://localhost:8080/"
        }
      },
      "source": [
        "tweets_train[1:4], labels_train[1:4]"
      ],
      "execution_count": 13,
      "outputs": [
        {
          "output_type": "execute_result",
          "data": {
            "text/plain": [
              "(['i can go from feeling so hopeless to so damned hopeful just from being around someone who cares and is awake',\n",
              "  'im grabbing a minute to post i feel greedy wrong',\n",
              "  'i am ever feeling nostalgic about the fireplace i will know that it is still on the property'],\n",
              " ['sadness', 'anger', 'love'])"
            ]
          },
          "metadata": {
            "tags": []
          },
          "execution_count": 13
        }
      ]
    },
    {
      "cell_type": "markdown",
      "metadata": {
        "id": "gcAflLv6xIgp"
      },
      "source": [
        "## 4: Tokenizer\n",
        "\n",
        "Tokenizing the tweets, it is a text preprocessing module represents words as numbers"
      ]
    },
    {
      "cell_type": "code",
      "metadata": {
        "id": "qfX5-ResxIgq"
      },
      "source": [
        "from keras.preprocessing.text import Tokenizer"
      ],
      "execution_count": 14,
      "outputs": []
    },
    {
      "cell_type": "code",
      "metadata": {
        "id": "cckUvwBo5eif"
      },
      "source": [
        "tokenizer = Tokenizer(num_words=10000, oov_token='<UNK>')  # any word not in vocablury is represented by oov_token\n",
        "tokenizer.fit_on_texts(tweets_train)"
      ],
      "execution_count": 15,
      "outputs": []
    },
    {
      "cell_type": "code",
      "metadata": {
        "id": "VzvNh4PZ7FNx",
        "outputId": "c8ee1cb8-b3e8-49b6-eba1-d91d889f06bd",
        "colab": {
          "base_uri": "https://localhost:8080/"
        }
      },
      "source": [
        "tokenizer.texts_to_sequences([tweets_train[0]])"
      ],
      "execution_count": 16,
      "outputs": [
        {
          "output_type": "execute_result",
          "data": {
            "text/plain": [
              "[[2, 139, 3, 679]]"
            ]
          },
          "metadata": {
            "tags": []
          },
          "execution_count": 16
        }
      ]
    },
    {
      "cell_type": "code",
      "metadata": {
        "id": "jU7Krvdm7jj2",
        "outputId": "503390ab-be3a-48c5-9c2b-4d8d0e2596ae",
        "colab": {
          "base_uri": "https://localhost:8080/",
          "height": 35
        }
      },
      "source": [
        "tweets_train[0]"
      ],
      "execution_count": 17,
      "outputs": [
        {
          "output_type": "execute_result",
          "data": {
            "application/vnd.google.colaboratory.intrinsic+json": {
              "type": "string"
            },
            "text/plain": [
              "'i didnt feel humiliated'"
            ]
          },
          "metadata": {
            "tags": []
          },
          "execution_count": 17
        }
      ]
    },
    {
      "cell_type": "markdown",
      "metadata": {
        "id": "i3Bqm7b2xIgu"
      },
      "source": [
        "## 5: Padding and Truncating Sequences\n",
        "padding is requires as the model wants input of same length\n",
        "\n",
        "1. Checking length of the tweets\n",
        "2. Creating padded sequences\n",
        "\n",
        "truncating if sentence longer then maxlen\n",
        "then the ending will truncated means will not be included in list"
      ]
    },
    {
      "cell_type": "code",
      "metadata": {
        "id": "mLvf_WFZxIgu",
        "outputId": "eed4219a-c30f-4f5d-dbec-e8e508745d65",
        "colab": {
          "base_uri": "https://localhost:8080/",
          "height": 265
        }
      },
      "source": [
        "lengths = [len(t.split()) for t in tweets_train]\n",
        "plt.hist(lengths, bins=len(set(lengths)))\n",
        "plt.show() "
      ],
      "execution_count": 18,
      "outputs": [
        {
          "output_type": "display_data",
          "data": {
            "image/png": "[encoded data removed]",
            "text/plain": [
              "<Figure size 432x288 with 1 Axes>"
            ]
          },
          "metadata": {
            "tags": [],
            "needs_background": "light"
          }
        }
      ]
    },
    {
      "cell_type": "code",
      "metadata": {
        "id": "EOi5lIE3xIgx"
      },
      "source": [
        "maxlen = 50\n",
        "from keras.preprocessing.sequence import pad_sequences\n",
        "\n",
        "def get_seq(tokenizer, tweets, maxlen):\n",
        "  seq = tokenizer.texts_to_sequences(tweets)\n",
        "  padded = pad_sequences(seq, truncating='post', padding='post', maxlen=maxlen)\n",
        "  return padded"
      ],
      "execution_count": 19,
      "outputs": []
    },
    {
      "cell_type": "code",
      "metadata": {
        "id": "Q9J_Iemf5eiq"
      },
      "source": [
        "train_padded = get_seq(tokenizer, tweets_train, maxlen)"
      ],
      "execution_count": 20,
      "outputs": []
    },
    {
      "cell_type": "code",
      "metadata": {
        "id": "eglH77ky5ei0",
        "outputId": "d2a81f14-f4d1-4862-c075-45fed6843db2",
        "colab": {
          "base_uri": "https://localhost:8080/"
        }
      },
      "source": [
        "train_padded[0]"
      ],
      "execution_count": 21,
      "outputs": [
        {
          "output_type": "execute_result",
          "data": {
            "text/plain": [
              "array([  2, 139,   3, 679,   0,   0,   0,   0,   0,   0,   0,   0,   0,\n",
              "         0,   0,   0,   0,   0,   0,   0,   0,   0,   0,   0,   0,   0,\n",
              "         0,   0,   0,   0,   0,   0,   0,   0,   0,   0,   0,   0,   0,\n",
              "         0,   0,   0,   0,   0,   0,   0,   0,   0,   0,   0], dtype=int32)"
            ]
          },
          "metadata": {
            "tags": []
          },
          "execution_count": 21
        }
      ]
    },
    {
      "cell_type": "markdown",
      "metadata": {
        "id": "BURhOX_KxIg8"
      },
      "source": [
        "## 6: Preparing the Labels\n",
        "\n",
        "1. Creating classes to index and index to classes dictionaries\n",
        "2. Converting text labels to numeric labels"
      ]
    },
    {
      "cell_type": "code",
      "metadata": {
        "id": "SufT2bpD5ejE",
        "outputId": "619cbb7d-d180-459a-cce8-63131dbac247",
        "colab": {
          "base_uri": "https://localhost:8080/"
        }
      },
      "source": [
        "set(labels_train)"
      ],
      "execution_count": 22,
      "outputs": [
        {
          "output_type": "execute_result",
          "data": {
            "text/plain": [
              "{'anger', 'fear', 'joy', 'love', 'sadness', 'surprise'}"
            ]
          },
          "metadata": {
            "tags": []
          },
          "execution_count": 22
        }
      ]
    },
    {
      "cell_type": "code",
      "metadata": {
        "id": "rpwzL88I7YSm",
        "outputId": "9f231f05-3120-4ca4-c096-3355c92f5a2d",
        "colab": {
          "base_uri": "https://localhost:8080/",
          "height": 265
        }
      },
      "source": [
        "plt.hist(labels_train, bins=12)\n",
        "plt.show()"
      ],
      "execution_count": 23,
      "outputs": [
        {
          "output_type": "display_data",
          "data": {
            "image/png": "[encoded data removed]",
            "text/plain": [
              "<Figure size 432x288 with 1 Axes>"
            ]
          },
          "metadata": {
            "tags": [],
            "needs_background": "light"
          }
        }
      ]
    },
    {
      "cell_type": "code",
      "metadata": {
        "id": "dNLF6rXL5ejN"
      },
      "source": [
        "class_to_index = dict((c,i) for i, c in enumerate(set(labels_train)))\n",
        "index_to_class = dict((v,k) for k, v in class_to_index.items())"
      ],
      "execution_count": 24,
      "outputs": []
    },
    {
      "cell_type": "code",
      "metadata": {
        "id": "_08InVyM5ejc",
        "outputId": "1ab09525-18ea-4517-d44a-43c647a68c15",
        "colab": {
          "base_uri": "https://localhost:8080/"
        }
      },
      "source": [
        "class_to_index"
      ],
      "execution_count": 25,
      "outputs": [
        {
          "output_type": "execute_result",
          "data": {
            "text/plain": [
              "{'anger': 5, 'fear': 0, 'joy': 1, 'love': 2, 'sadness': 4, 'surprise': 3}"
            ]
          },
          "metadata": {
            "tags": []
          },
          "execution_count": 25
        }
      ]
    },
    {
      "cell_type": "code",
      "metadata": {
        "id": "gpeDoA6gxIhE",
        "outputId": "19aac171-92f9-40fa-9e16-c40f0e3b9e43",
        "colab": {
          "base_uri": "https://localhost:8080/"
        }
      },
      "source": [
        "index_to_class"
      ],
      "execution_count": 26,
      "outputs": [
        {
          "output_type": "execute_result",
          "data": {
            "text/plain": [
              "{0: 'fear', 1: 'joy', 2: 'love', 3: 'surprise', 4: 'sadness', 5: 'anger'}"
            ]
          },
          "metadata": {
            "tags": []
          },
          "execution_count": 26
        }
      ]
    },
    {
      "cell_type": "code",
      "metadata": {
        "id": "Jq0WJYsP5ejR"
      },
      "source": [
        "get_labels_ids = lambda labels: np.array([class_to_index[x] for x in labels])"
      ],
      "execution_count": 27,
      "outputs": []
    },
    {
      "cell_type": "code",
      "metadata": {
        "id": "v15KnrNC5ejW",
        "outputId": "3115545d-adbd-4f09-a574-bcd9ff383b3e",
        "colab": {
          "base_uri": "https://localhost:8080/"
        }
      },
      "source": [
        "train_labels = get_labels_ids(labels_train)\n",
        "print(train_labels[0])"
      ],
      "execution_count": 28,
      "outputs": [
        {
          "output_type": "stream",
          "text": [
            "4\n"
          ],
          "name": "stdout"
        }
      ]
    },
    {
      "cell_type": "markdown",
      "metadata": {
        "id": "c-v0Mnh8xIhP"
      },
      "source": [
        "## 7: Creating the Model\n",
        "\n",
        "1. Creating the model\n",
        "2. Compiling the model"
      ]
    },
    {
      "cell_type": "code",
      "metadata": {
        "id": "OpewXxPQ5eji",
        "outputId": "9df862cf-300d-44f8-fa0a-e6405959f596",
        "colab": {
          "base_uri": "https://localhost:8080/"
        }
      },
      "source": [
        "from keras.layers import Embedding, Bidirectional, LSTM, Dense\n",
        "\n",
        "model = tf.keras.models.Sequential([Embedding(10000, 16, input_length=maxlen),\n",
        "                                    Bidirectional(LSTM(20, return_sequences=True)),\n",
        "                                    Bidirectional(LSTM(20)),\n",
        "                                    Dense(6, activation='softmax')\n",
        "                                  ])\n",
        "model.compile(loss='sparse_categorical_crossentropy',\n",
        "              optimizer='adam',\n",
        "              metrics=['accuracy']\n",
        "              )\n",
        "model.summary()"
      ],
      "execution_count": 29,
      "outputs": [
        {
          "output_type": "stream",
          "text": [
            "Model: \"sequential\"\n",
            "_________________________________________________________________\n",
            "Layer (type)                 Output Shape              Param #   \n",
            "=================================================================\n",
            "embedding (Embedding)        (None, 50, 16)            160000    \n",
            "_________________________________________________________________\n",
            "bidirectional (Bidirectional (None, 50, 40)            5920      \n",
            "_________________________________________________________________\n",
            "bidirectional_1 (Bidirection (None, 40)                9760      \n",
            "_________________________________________________________________\n",
            "dense (Dense)                (None, 6)                 246       \n",
            "=================================================================\n",
            "Total params: 175,926\n",
            "Trainable params: 175,926\n",
            "Non-trainable params: 0\n",
            "_________________________________________________________________\n"
          ],
          "name": "stdout"
        }
      ]
    },
    {
      "cell_type": "markdown",
      "metadata": {
        "id": "1HST_CHjxIhR"
      },
      "source": [
        "## 8: Training the Model\n",
        "\n",
        "1. Preparing a validation set\n",
        "2. Training the model"
      ]
    },
    {
      "cell_type": "code",
      "metadata": {
        "id": "Ff7F3hCK5ejm"
      },
      "source": [
        "val_tweets, val_labels = get_tweet(val)\n",
        "val_padded = get_seq(tokenizer, val_tweets, maxlen)\n",
        "val_labels = get_labels_ids(val_labels)"
      ],
      "execution_count": 30,
      "outputs": []
    },
    {
      "cell_type": "code",
      "metadata": {
        "id": "hlMKaZ3H5ejr",
        "outputId": "dadfb9bb-ab58-44ee-d516-0b72c5c25f98",
        "colab": {
          "base_uri": "https://localhost:8080/"
        }
      },
      "source": [
        "val_tweets[0], val_labels[0]"
      ],
      "execution_count": 31,
      "outputs": [
        {
          "output_type": "execute_result",
          "data": {
            "text/plain": [
              "('im feeling quite sad and sorry for myself but ill snap out of it soon', 4)"
            ]
          },
          "metadata": {
            "tags": []
          },
          "execution_count": 31
        }
      ]
    },
    {
      "cell_type": "code",
      "metadata": {
        "id": "bzBqnWQ-5ejw",
        "outputId": "3df97d92-e335-4b91-ad5c-30b5fb3cc896",
        "colab": {
          "base_uri": "https://localhost:8080/"
        }
      },
      "source": [
        "h = model.fit(train_padded, train_labels,\n",
        "              validation_data=(val_padded, val_labels),\n",
        "              epochs=25)"
      ],
      "execution_count": 32,
      "outputs": [
        {
          "output_type": "stream",
          "text": [
            "Epoch 1/25\n",
            "500/500 [==============================] - 8s 17ms/step - loss: 1.2928 - accuracy: 0.4955 - val_loss: 0.7965 - val_accuracy: 0.7135\n",
            "Epoch 2/25\n",
            "500/500 [==============================] - 7s 14ms/step - loss: 0.5548 - accuracy: 0.8055 - val_loss: 0.5498 - val_accuracy: 0.8195\n",
            "Epoch 3/25\n",
            "500/500 [==============================] - 7s 14ms/step - loss: 0.3337 - accuracy: 0.8921 - val_loss: 0.4734 - val_accuracy: 0.8380\n",
            "Epoch 4/25\n",
            "500/500 [==============================] - 8s 15ms/step - loss: 0.2277 - accuracy: 0.9291 - val_loss: 0.4727 - val_accuracy: 0.8440\n",
            "Epoch 5/25\n",
            "500/500 [==============================] - 8s 15ms/step - loss: 0.1657 - accuracy: 0.9486 - val_loss: 0.4215 - val_accuracy: 0.8645\n",
            "Epoch 6/25\n",
            "500/500 [==============================] - 7s 14ms/step - loss: 0.1226 - accuracy: 0.9631 - val_loss: 0.4206 - val_accuracy: 0.8710\n",
            "Epoch 7/25\n",
            "500/500 [==============================] - 7s 14ms/step - loss: 0.0991 - accuracy: 0.9703 - val_loss: 0.4652 - val_accuracy: 0.8690\n",
            "Epoch 8/25\n",
            "500/500 [==============================] - 7s 14ms/step - loss: 0.0962 - accuracy: 0.9703 - val_loss: 0.4412 - val_accuracy: 0.8805\n",
            "Epoch 9/25\n",
            "500/500 [==============================] - 7s 14ms/step - loss: 0.0816 - accuracy: 0.9754 - val_loss: 0.4085 - val_accuracy: 0.8825\n",
            "Epoch 10/25\n",
            "500/500 [==============================] - 7s 14ms/step - loss: 0.0694 - accuracy: 0.9789 - val_loss: 0.4897 - val_accuracy: 0.8830\n",
            "Epoch 11/25\n",
            "500/500 [==============================] - 7s 14ms/step - loss: 0.0581 - accuracy: 0.9819 - val_loss: 0.4798 - val_accuracy: 0.8795\n",
            "Epoch 12/25\n",
            "500/500 [==============================] - 7s 15ms/step - loss: 0.0569 - accuracy: 0.9834 - val_loss: 0.4414 - val_accuracy: 0.8790\n",
            "Epoch 13/25\n",
            "500/500 [==============================] - 7s 14ms/step - loss: 0.0439 - accuracy: 0.9859 - val_loss: 0.4758 - val_accuracy: 0.8840\n",
            "Epoch 14/25\n",
            "500/500 [==============================] - 7s 14ms/step - loss: 0.0402 - accuracy: 0.9874 - val_loss: 0.4301 - val_accuracy: 0.8870\n",
            "Epoch 15/25\n",
            "500/500 [==============================] - 7s 14ms/step - loss: 0.0404 - accuracy: 0.9877 - val_loss: 0.4250 - val_accuracy: 0.8840\n",
            "Epoch 16/25\n",
            "500/500 [==============================] - 7s 14ms/step - loss: 0.0374 - accuracy: 0.9891 - val_loss: 0.5372 - val_accuracy: 0.8845\n",
            "Epoch 17/25\n",
            "500/500 [==============================] - 7s 14ms/step - loss: 0.0364 - accuracy: 0.9876 - val_loss: 0.4538 - val_accuracy: 0.8820\n",
            "Epoch 18/25\n",
            "500/500 [==============================] - 7s 14ms/step - loss: 0.0300 - accuracy: 0.9896 - val_loss: 0.5326 - val_accuracy: 0.8910\n",
            "Epoch 19/25\n",
            "500/500 [==============================] - 7s 14ms/step - loss: 0.0366 - accuracy: 0.9882 - val_loss: 0.4694 - val_accuracy: 0.8855\n",
            "Epoch 20/25\n",
            "500/500 [==============================] - 7s 14ms/step - loss: 0.0311 - accuracy: 0.9898 - val_loss: 0.4738 - val_accuracy: 0.8890\n",
            "Epoch 21/25\n",
            "500/500 [==============================] - 7s 14ms/step - loss: 0.0300 - accuracy: 0.9893 - val_loss: 0.4952 - val_accuracy: 0.8965\n",
            "Epoch 22/25\n",
            "500/500 [==============================] - 7s 14ms/step - loss: 0.0224 - accuracy: 0.9919 - val_loss: 0.5311 - val_accuracy: 0.8850\n",
            "Epoch 23/25\n",
            "500/500 [==============================] - 7s 14ms/step - loss: 0.0281 - accuracy: 0.9901 - val_loss: 0.4916 - val_accuracy: 0.8925\n",
            "Epoch 24/25\n",
            "500/500 [==============================] - 7s 14ms/step - loss: 0.0267 - accuracy: 0.9902 - val_loss: 0.5231 - val_accuracy: 0.8905\n",
            "Epoch 25/25\n",
            "500/500 [==============================] - 7s 14ms/step - loss: 0.0196 - accuracy: 0.9926 - val_loss: 0.5464 - val_accuracy: 0.8895\n"
          ],
          "name": "stdout"
        }
      ]
    },
    {
      "cell_type": "markdown",
      "metadata": {
        "id": "EdsJyMTLxIhX"
      },
      "source": [
        "## 9: Evaluating the Model\n",
        "\n",
        "1. Visualizing training history\n",
        "2. Prepraring a test set\n",
        "3. A look at individual predictions on the test set\n",
        "4. A look at all predictions on the test set"
      ]
    },
    {
      "cell_type": "code",
      "metadata": {
        "id": "ENCfvXeLxIhX",
        "outputId": "76962a21-1e66-4f5f-8de6-0c53c642f758",
        "colab": {
          "base_uri": "https://localhost:8080/",
          "height": 392
        }
      },
      "source": [
        "show_history(h)"
      ],
      "execution_count": 33,
      "outputs": [
        {
          "output_type": "display_data",
          "data": {
            "image/png": "[encoded data removed]",
            "text/plain": [
              "<Figure size 1152x432 with 2 Axes>"
            ]
          },
          "metadata": {
            "tags": [],
            "needs_background": "light"
          }
        }
      ]
    },
    {
      "cell_type": "code",
      "metadata": {
        "id": "kWuzoz8uxIha"
      },
      "source": [
        "test_tweets, test_labels = get_tweet(test)\n",
        "test_padded = get_seq(tokenizer, test_tweets, maxlen)\n",
        "test_labels = get_labels_ids(test_labels)"
      ],
      "execution_count": 34,
      "outputs": []
    },
    {
      "cell_type": "code",
      "metadata": {
        "id": "7vRVJ_2SxIhc",
        "outputId": "f4e59266-53e2-49bf-f204-0d2184804a79",
        "colab": {
          "base_uri": "https://localhost:8080/"
        }
      },
      "source": [
        "model.evaluate(test_padded, test_labels)"
      ],
      "execution_count": 35,
      "outputs": [
        {
          "output_type": "stream",
          "text": [
            "63/63 [==============================] - 0s 6ms/step - loss: 0.5134 - accuracy: 0.8925\n"
          ],
          "name": "stdout"
        },
        {
          "output_type": "execute_result",
          "data": {
            "text/plain": [
              "[0.5134133100509644, 0.8924999833106995]"
            ]
          },
          "metadata": {
            "tags": []
          },
          "execution_count": 35
        }
      ]
    },
    {
      "cell_type": "code",
      "metadata": {
        "id": "rh638vHG5ej6",
        "outputId": "e8469e20-b242-4ca5-afb4-8afec501ead7",
        "colab": {
          "base_uri": "https://localhost:8080/"
        }
      },
      "source": [
        "import random\n",
        "i = random.randint(0, len(test_labels)-1)\n",
        "\n",
        "print('Sentence 1:', test_tweets[i])\n",
        "print('org emotion 1:', index_to_class[test_labels[i]])\n",
        "\n",
        "p = model.predict(np.expand_dims(test_padded[i], axis=0))[0]\n",
        "pred_class = index_to_class[np.argmax(p).astype('uint8')]\n",
        "\n",
        "print('Predicted Emotion 1 :', pred_class)\n",
        "i = random.randint(0, len(test_labels)-1)\n",
        "\n",
        "print('Sentence 2:', test_tweets[i])\n",
        "print('org emotion 2:', index_to_class[test_labels[i]])\n",
        "\n",
        "p = model.predict(np.expand_dims(test_padded[i], axis=0))[0]\n",
        "pred_class = index_to_class[np.argmax(p).astype('uint8')]\n",
        "\n",
        "print('Predicted Emotion 2:', pred_class)"
      ],
      "execution_count": 40,
      "outputs": [
        {
          "output_type": "stream",
          "text": [
            "Sentence 1: i just keep feeling like someone is being unkind to me and doing me wrong and then all i can think of doing is to get back at them and the people they are close to\n",
            "org emotion 1: anger\n",
            "Predicted Emotion 1 : anger\n",
            "Sentence 2: i do take on a half marathon challenge then i will wait and see how the body feels as to whether there will be a pb attempt or a casual kilometre shuffle\n",
            "org emotion 2: joy\n",
            "Predicted Emotion 2: joy\n"
          ],
          "name": "stdout"
        }
      ]
    },
    {
      "cell_type": "code",
      "metadata": {
        "id": "hHl5SVCFxIhh"
      },
      "source": [
        "preds = model.predict(test_padded)\n",
        "preds = np.argmax(preds, axis=-1)"
      ],
      "execution_count": 37,
      "outputs": []
    },
    {
      "cell_type": "code",
      "metadata": {
        "id": "NC8YQ0OexIhj",
        "outputId": "f40b48f7-ab58-437f-d270-7326c14c52f3",
        "colab": {
          "base_uri": "https://localhost:8080/",
          "height": 472
        }
      },
      "source": [
        "show_confusion_matrix(test_labels, preds, list(set(labels_train)))"
      ],
      "execution_count": 38,
      "outputs": [
        {
          "output_type": "display_data",
          "data": {
            "image/png": "[encoded data removed]",
            "text/plain": [
              "<Figure size 576x576 with 2 Axes>"
            ]
          },
          "metadata": {
            "tags": [],
            "needs_background": "light"
          }
        }
      ]
    }
  ]
}